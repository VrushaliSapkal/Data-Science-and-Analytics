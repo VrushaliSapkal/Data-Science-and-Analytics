{
  "nbformat": 4,
  "nbformat_minor": 0,
  "metadata": {
    "colab": {
      "provenance": [],
      "authorship_tag": "ABX9TyO0dafTSnJpmVJBbYXXJ9vi",
      "include_colab_link": true
    },
    "kernelspec": {
      "name": "python3",
      "display_name": "Python 3"
    },
    "language_info": {
      "name": "python"
    }
  },
  "cells": [
    {
      "cell_type": "markdown",
      "metadata": {
        "id": "view-in-github",
        "colab_type": "text"
      },
      "source": [
        "<a href=\"https://colab.research.google.com/github/VrushaliSapkal/Data-Science-and-Analytics/blob/main/DSA_Assignment5.ipynb\" target=\"_parent\"><img src=\"https://colab.research.google.com/assets/colab-badge.svg\" alt=\"Open In Colab\"/></a>"
      ]
    },
    {
      "cell_type": "markdown",
      "source": [
        "Name : Sapkal Vrushali Shantaram\n",
        "\n",
        "Class : B.Tech\n",
        "\n",
        "Div : A\n",
        "\n",
        "Batch : AB4\n",
        "\n",
        "Roll No : 16\n",
        "\n",
        "Date : 22-11-2022"
      ],
      "metadata": {
        "id": "MINi1JNfEo6W"
      }
    },
    {
      "cell_type": "markdown",
      "source": [
        "**Problem Statement :**\n",
        "\n",
        "Trip History Analysis Using Machine Learning algorithm - KNN"
      ],
      "metadata": {
        "id": "zTwSqPVmEdiG"
      }
    },
    {
      "cell_type": "code",
      "execution_count": 151,
      "metadata": {
        "id": "2EYQCaNkTkUJ"
      },
      "outputs": [],
      "source": [
        "import numpy as np\n",
        "import pandas as pd\n",
        "import seaborn as sns\n",
        "import matplotlib.pyplot as plt  "
      ]
    },
    {
      "cell_type": "code",
      "source": [
        "data = pd.read_csv('/content/2010-capitalbikeshare-tripdata.csv')"
      ],
      "metadata": {
        "id": "2NSb_zfuVY2w"
      },
      "execution_count": 152,
      "outputs": []
    },
    {
      "cell_type": "code",
      "source": [
        "data"
      ],
      "metadata": {
        "id": "Gp_cI3M0VifE",
        "outputId": "48019d3f-840c-4d6f-f41a-bd92633b1653",
        "colab": {
          "base_uri": "https://localhost:8080/",
          "height": 711
        }
      },
      "execution_count": 153,
      "outputs": [
        {
          "output_type": "execute_result",
          "data": {
            "text/plain": [
              "        Duration           Start date             End date  \\\n",
              "0           1012  2010-09-20 11:27:04  2010-09-20 11:43:56   \n",
              "1             61  2010-09-20 11:41:22  2010-09-20 11:42:23   \n",
              "2           2690  2010-09-20 12:05:37  2010-09-20 12:50:27   \n",
              "3           1406  2010-09-20 12:06:05  2010-09-20 12:29:32   \n",
              "4           1413  2010-09-20 12:10:43  2010-09-20 12:34:17   \n",
              "...          ...                  ...                  ...   \n",
              "115592      2179  2010-12-31 23:20:32  2010-12-31 23:56:52   \n",
              "115593       953  2010-12-31 23:21:57  2010-12-31 23:37:50   \n",
              "115594       737  2010-12-31 23:27:28  2010-12-31 23:39:45   \n",
              "115595       514  2010-12-31 23:37:38  2010-12-31 23:46:12   \n",
              "115596     51962  2010-12-31 23:49:05  2011-01-01 14:15:08   \n",
              "\n",
              "        Start station number                  Start station  \\\n",
              "0                      31208       M St & New Jersey Ave SE   \n",
              "1                      31209                 1st & N St  SE   \n",
              "2                      31600                  5th & K St NW   \n",
              "3                      31600                  5th & K St NW   \n",
              "4                      31100  19th St & Pennsylvania Ave NW   \n",
              "...                      ...                            ...   \n",
              "115592                 31110       20th St & Florida Ave NW   \n",
              "115593                 31106       Calvert & Biltmore St NW   \n",
              "115594                 31602        Park Rd & Holmead Pl NW   \n",
              "115595                 31111                 10th & U St NW   \n",
              "115596                 31111                 10th & U St NW   \n",
              "\n",
              "        End station number                      End station Bike number  \\\n",
              "0                    31108                    4th & M St SW      W00742   \n",
              "1                    31209                   1st & N St  SE      W00032   \n",
              "2                    31100    19th St & Pennsylvania Ave NW      W00993   \n",
              "3                    31602          Park Rd & Holmead Pl NW      W00344   \n",
              "4                    31201                   15th & P St NW      W00883   \n",
              "...                    ...                              ...         ...   \n",
              "115592               31623  Columbus Circle / Union Station      W00859   \n",
              "115593               31401           14th St & Spring Rd NW      W00914   \n",
              "115594               31401           14th St & Spring Rd NW      W00973   \n",
              "115595               31202                   14th & R St NW      W01119   \n",
              "115596               31111                   10th & U St NW      W00771   \n",
              "\n",
              "       Member type  \n",
              "0           Member  \n",
              "1           Member  \n",
              "2           Member  \n",
              "3           Member  \n",
              "4           Member  \n",
              "...            ...  \n",
              "115592      Casual  \n",
              "115593      Member  \n",
              "115594      Member  \n",
              "115595      Member  \n",
              "115596      Casual  \n",
              "\n",
              "[115597 rows x 9 columns]"
            ],
            "text/html": [
              "\n",
              "  <div id=\"df-b476c44c-658c-4e94-a8b8-ca32b69c56ed\">\n",
              "    <div class=\"colab-df-container\">\n",
              "      <div>\n",
              "<style scoped>\n",
              "    .dataframe tbody tr th:only-of-type {\n",
              "        vertical-align: middle;\n",
              "    }\n",
              "\n",
              "    .dataframe tbody tr th {\n",
              "        vertical-align: top;\n",
              "    }\n",
              "\n",
              "    .dataframe thead th {\n",
              "        text-align: right;\n",
              "    }\n",
              "</style>\n",
              "<table border=\"1\" class=\"dataframe\">\n",
              "  <thead>\n",
              "    <tr style=\"text-align: right;\">\n",
              "      <th></th>\n",
              "      <th>Duration</th>\n",
              "      <th>Start date</th>\n",
              "      <th>End date</th>\n",
              "      <th>Start station number</th>\n",
              "      <th>Start station</th>\n",
              "      <th>End station number</th>\n",
              "      <th>End station</th>\n",
              "      <th>Bike number</th>\n",
              "      <th>Member type</th>\n",
              "    </tr>\n",
              "  </thead>\n",
              "  <tbody>\n",
              "    <tr>\n",
              "      <th>0</th>\n",
              "      <td>1012</td>\n",
              "      <td>2010-09-20 11:27:04</td>\n",
              "      <td>2010-09-20 11:43:56</td>\n",
              "      <td>31208</td>\n",
              "      <td>M St &amp; New Jersey Ave SE</td>\n",
              "      <td>31108</td>\n",
              "      <td>4th &amp; M St SW</td>\n",
              "      <td>W00742</td>\n",
              "      <td>Member</td>\n",
              "    </tr>\n",
              "    <tr>\n",
              "      <th>1</th>\n",
              "      <td>61</td>\n",
              "      <td>2010-09-20 11:41:22</td>\n",
              "      <td>2010-09-20 11:42:23</td>\n",
              "      <td>31209</td>\n",
              "      <td>1st &amp; N St  SE</td>\n",
              "      <td>31209</td>\n",
              "      <td>1st &amp; N St  SE</td>\n",
              "      <td>W00032</td>\n",
              "      <td>Member</td>\n",
              "    </tr>\n",
              "    <tr>\n",
              "      <th>2</th>\n",
              "      <td>2690</td>\n",
              "      <td>2010-09-20 12:05:37</td>\n",
              "      <td>2010-09-20 12:50:27</td>\n",
              "      <td>31600</td>\n",
              "      <td>5th &amp; K St NW</td>\n",
              "      <td>31100</td>\n",
              "      <td>19th St &amp; Pennsylvania Ave NW</td>\n",
              "      <td>W00993</td>\n",
              "      <td>Member</td>\n",
              "    </tr>\n",
              "    <tr>\n",
              "      <th>3</th>\n",
              "      <td>1406</td>\n",
              "      <td>2010-09-20 12:06:05</td>\n",
              "      <td>2010-09-20 12:29:32</td>\n",
              "      <td>31600</td>\n",
              "      <td>5th &amp; K St NW</td>\n",
              "      <td>31602</td>\n",
              "      <td>Park Rd &amp; Holmead Pl NW</td>\n",
              "      <td>W00344</td>\n",
              "      <td>Member</td>\n",
              "    </tr>\n",
              "    <tr>\n",
              "      <th>4</th>\n",
              "      <td>1413</td>\n",
              "      <td>2010-09-20 12:10:43</td>\n",
              "      <td>2010-09-20 12:34:17</td>\n",
              "      <td>31100</td>\n",
              "      <td>19th St &amp; Pennsylvania Ave NW</td>\n",
              "      <td>31201</td>\n",
              "      <td>15th &amp; P St NW</td>\n",
              "      <td>W00883</td>\n",
              "      <td>Member</td>\n",
              "    </tr>\n",
              "    <tr>\n",
              "      <th>...</th>\n",
              "      <td>...</td>\n",
              "      <td>...</td>\n",
              "      <td>...</td>\n",
              "      <td>...</td>\n",
              "      <td>...</td>\n",
              "      <td>...</td>\n",
              "      <td>...</td>\n",
              "      <td>...</td>\n",
              "      <td>...</td>\n",
              "    </tr>\n",
              "    <tr>\n",
              "      <th>115592</th>\n",
              "      <td>2179</td>\n",
              "      <td>2010-12-31 23:20:32</td>\n",
              "      <td>2010-12-31 23:56:52</td>\n",
              "      <td>31110</td>\n",
              "      <td>20th St &amp; Florida Ave NW</td>\n",
              "      <td>31623</td>\n",
              "      <td>Columbus Circle / Union Station</td>\n",
              "      <td>W00859</td>\n",
              "      <td>Casual</td>\n",
              "    </tr>\n",
              "    <tr>\n",
              "      <th>115593</th>\n",
              "      <td>953</td>\n",
              "      <td>2010-12-31 23:21:57</td>\n",
              "      <td>2010-12-31 23:37:50</td>\n",
              "      <td>31106</td>\n",
              "      <td>Calvert &amp; Biltmore St NW</td>\n",
              "      <td>31401</td>\n",
              "      <td>14th St &amp; Spring Rd NW</td>\n",
              "      <td>W00914</td>\n",
              "      <td>Member</td>\n",
              "    </tr>\n",
              "    <tr>\n",
              "      <th>115594</th>\n",
              "      <td>737</td>\n",
              "      <td>2010-12-31 23:27:28</td>\n",
              "      <td>2010-12-31 23:39:45</td>\n",
              "      <td>31602</td>\n",
              "      <td>Park Rd &amp; Holmead Pl NW</td>\n",
              "      <td>31401</td>\n",
              "      <td>14th St &amp; Spring Rd NW</td>\n",
              "      <td>W00973</td>\n",
              "      <td>Member</td>\n",
              "    </tr>\n",
              "    <tr>\n",
              "      <th>115595</th>\n",
              "      <td>514</td>\n",
              "      <td>2010-12-31 23:37:38</td>\n",
              "      <td>2010-12-31 23:46:12</td>\n",
              "      <td>31111</td>\n",
              "      <td>10th &amp; U St NW</td>\n",
              "      <td>31202</td>\n",
              "      <td>14th &amp; R St NW</td>\n",
              "      <td>W01119</td>\n",
              "      <td>Member</td>\n",
              "    </tr>\n",
              "    <tr>\n",
              "      <th>115596</th>\n",
              "      <td>51962</td>\n",
              "      <td>2010-12-31 23:49:05</td>\n",
              "      <td>2011-01-01 14:15:08</td>\n",
              "      <td>31111</td>\n",
              "      <td>10th &amp; U St NW</td>\n",
              "      <td>31111</td>\n",
              "      <td>10th &amp; U St NW</td>\n",
              "      <td>W00771</td>\n",
              "      <td>Casual</td>\n",
              "    </tr>\n",
              "  </tbody>\n",
              "</table>\n",
              "<p>115597 rows × 9 columns</p>\n",
              "</div>\n",
              "      <button class=\"colab-df-convert\" onclick=\"convertToInteractive('df-b476c44c-658c-4e94-a8b8-ca32b69c56ed')\"\n",
              "              title=\"Convert this dataframe to an interactive table.\"\n",
              "              style=\"display:none;\">\n",
              "        \n",
              "  <svg xmlns=\"http://www.w3.org/2000/svg\" height=\"24px\"viewBox=\"0 0 24 24\"\n",
              "       width=\"24px\">\n",
              "    <path d=\"M0 0h24v24H0V0z\" fill=\"none\"/>\n",
              "    <path d=\"M18.56 5.44l.94 2.06.94-2.06 2.06-.94-2.06-.94-.94-2.06-.94 2.06-2.06.94zm-11 1L8.5 8.5l.94-2.06 2.06-.94-2.06-.94L8.5 2.5l-.94 2.06-2.06.94zm10 10l.94 2.06.94-2.06 2.06-.94-2.06-.94-.94-2.06-.94 2.06-2.06.94z\"/><path d=\"M17.41 7.96l-1.37-1.37c-.4-.4-.92-.59-1.43-.59-.52 0-1.04.2-1.43.59L10.3 9.45l-7.72 7.72c-.78.78-.78 2.05 0 2.83L4 21.41c.39.39.9.59 1.41.59.51 0 1.02-.2 1.41-.59l7.78-7.78 2.81-2.81c.8-.78.8-2.07 0-2.86zM5.41 20L4 18.59l7.72-7.72 1.47 1.35L5.41 20z\"/>\n",
              "  </svg>\n",
              "      </button>\n",
              "      \n",
              "  <style>\n",
              "    .colab-df-container {\n",
              "      display:flex;\n",
              "      flex-wrap:wrap;\n",
              "      gap: 12px;\n",
              "    }\n",
              "\n",
              "    .colab-df-convert {\n",
              "      background-color: #E8F0FE;\n",
              "      border: none;\n",
              "      border-radius: 50%;\n",
              "      cursor: pointer;\n",
              "      display: none;\n",
              "      fill: #1967D2;\n",
              "      height: 32px;\n",
              "      padding: 0 0 0 0;\n",
              "      width: 32px;\n",
              "    }\n",
              "\n",
              "    .colab-df-convert:hover {\n",
              "      background-color: #E2EBFA;\n",
              "      box-shadow: 0px 1px 2px rgba(60, 64, 67, 0.3), 0px 1px 3px 1px rgba(60, 64, 67, 0.15);\n",
              "      fill: #174EA6;\n",
              "    }\n",
              "\n",
              "    [theme=dark] .colab-df-convert {\n",
              "      background-color: #3B4455;\n",
              "      fill: #D2E3FC;\n",
              "    }\n",
              "\n",
              "    [theme=dark] .colab-df-convert:hover {\n",
              "      background-color: #434B5C;\n",
              "      box-shadow: 0px 1px 3px 1px rgba(0, 0, 0, 0.15);\n",
              "      filter: drop-shadow(0px 1px 2px rgba(0, 0, 0, 0.3));\n",
              "      fill: #FFFFFF;\n",
              "    }\n",
              "  </style>\n",
              "\n",
              "      <script>\n",
              "        const buttonEl =\n",
              "          document.querySelector('#df-b476c44c-658c-4e94-a8b8-ca32b69c56ed button.colab-df-convert');\n",
              "        buttonEl.style.display =\n",
              "          google.colab.kernel.accessAllowed ? 'block' : 'none';\n",
              "\n",
              "        async function convertToInteractive(key) {\n",
              "          const element = document.querySelector('#df-b476c44c-658c-4e94-a8b8-ca32b69c56ed');\n",
              "          const dataTable =\n",
              "            await google.colab.kernel.invokeFunction('convertToInteractive',\n",
              "                                                     [key], {});\n",
              "          if (!dataTable) return;\n",
              "\n",
              "          const docLinkHtml = 'Like what you see? Visit the ' +\n",
              "            '<a target=\"_blank\" href=https://colab.research.google.com/notebooks/data_table.ipynb>data table notebook</a>'\n",
              "            + ' to learn more about interactive tables.';\n",
              "          element.innerHTML = '';\n",
              "          dataTable['output_type'] = 'display_data';\n",
              "          await google.colab.output.renderOutput(dataTable, element);\n",
              "          const docLink = document.createElement('div');\n",
              "          docLink.innerHTML = docLinkHtml;\n",
              "          element.appendChild(docLink);\n",
              "        }\n",
              "      </script>\n",
              "    </div>\n",
              "  </div>\n",
              "  "
            ]
          },
          "metadata": {},
          "execution_count": 153
        }
      ]
    },
    {
      "cell_type": "code",
      "source": [
        "data.describe()\n"
      ],
      "metadata": {
        "id": "K8YyKlU3Vji1",
        "colab": {
          "base_uri": "https://localhost:8080/",
          "height": 300
        },
        "outputId": "2749be88-1448-4bb2-df50-e4fee0b76c01"
      },
      "execution_count": 154,
      "outputs": [
        {
          "output_type": "execute_result",
          "data": {
            "text/plain": [
              "            Duration  Start station number  End station number\n",
              "count  115597.000000         115597.000000       115597.000000\n",
              "mean     1254.649956          31266.213431        31268.042250\n",
              "std      2914.317998            187.645048          186.194316\n",
              "min        60.000000          31000.000000        31000.000000\n",
              "25%       403.000000          31110.000000        31111.000000\n",
              "50%       665.000000          31213.000000        31214.000000\n",
              "75%      1120.000000          31301.000000        31238.000000\n",
              "max     85644.000000          31805.000000        31805.000000"
            ],
            "text/html": [
              "\n",
              "  <div id=\"df-d044eb22-d1e9-4b53-b1cf-a058315b8b73\">\n",
              "    <div class=\"colab-df-container\">\n",
              "      <div>\n",
              "<style scoped>\n",
              "    .dataframe tbody tr th:only-of-type {\n",
              "        vertical-align: middle;\n",
              "    }\n",
              "\n",
              "    .dataframe tbody tr th {\n",
              "        vertical-align: top;\n",
              "    }\n",
              "\n",
              "    .dataframe thead th {\n",
              "        text-align: right;\n",
              "    }\n",
              "</style>\n",
              "<table border=\"1\" class=\"dataframe\">\n",
              "  <thead>\n",
              "    <tr style=\"text-align: right;\">\n",
              "      <th></th>\n",
              "      <th>Duration</th>\n",
              "      <th>Start station number</th>\n",
              "      <th>End station number</th>\n",
              "    </tr>\n",
              "  </thead>\n",
              "  <tbody>\n",
              "    <tr>\n",
              "      <th>count</th>\n",
              "      <td>115597.000000</td>\n",
              "      <td>115597.000000</td>\n",
              "      <td>115597.000000</td>\n",
              "    </tr>\n",
              "    <tr>\n",
              "      <th>mean</th>\n",
              "      <td>1254.649956</td>\n",
              "      <td>31266.213431</td>\n",
              "      <td>31268.042250</td>\n",
              "    </tr>\n",
              "    <tr>\n",
              "      <th>std</th>\n",
              "      <td>2914.317998</td>\n",
              "      <td>187.645048</td>\n",
              "      <td>186.194316</td>\n",
              "    </tr>\n",
              "    <tr>\n",
              "      <th>min</th>\n",
              "      <td>60.000000</td>\n",
              "      <td>31000.000000</td>\n",
              "      <td>31000.000000</td>\n",
              "    </tr>\n",
              "    <tr>\n",
              "      <th>25%</th>\n",
              "      <td>403.000000</td>\n",
              "      <td>31110.000000</td>\n",
              "      <td>31111.000000</td>\n",
              "    </tr>\n",
              "    <tr>\n",
              "      <th>50%</th>\n",
              "      <td>665.000000</td>\n",
              "      <td>31213.000000</td>\n",
              "      <td>31214.000000</td>\n",
              "    </tr>\n",
              "    <tr>\n",
              "      <th>75%</th>\n",
              "      <td>1120.000000</td>\n",
              "      <td>31301.000000</td>\n",
              "      <td>31238.000000</td>\n",
              "    </tr>\n",
              "    <tr>\n",
              "      <th>max</th>\n",
              "      <td>85644.000000</td>\n",
              "      <td>31805.000000</td>\n",
              "      <td>31805.000000</td>\n",
              "    </tr>\n",
              "  </tbody>\n",
              "</table>\n",
              "</div>\n",
              "      <button class=\"colab-df-convert\" onclick=\"convertToInteractive('df-d044eb22-d1e9-4b53-b1cf-a058315b8b73')\"\n",
              "              title=\"Convert this dataframe to an interactive table.\"\n",
              "              style=\"display:none;\">\n",
              "        \n",
              "  <svg xmlns=\"http://www.w3.org/2000/svg\" height=\"24px\"viewBox=\"0 0 24 24\"\n",
              "       width=\"24px\">\n",
              "    <path d=\"M0 0h24v24H0V0z\" fill=\"none\"/>\n",
              "    <path d=\"M18.56 5.44l.94 2.06.94-2.06 2.06-.94-2.06-.94-.94-2.06-.94 2.06-2.06.94zm-11 1L8.5 8.5l.94-2.06 2.06-.94-2.06-.94L8.5 2.5l-.94 2.06-2.06.94zm10 10l.94 2.06.94-2.06 2.06-.94-2.06-.94-.94-2.06-.94 2.06-2.06.94z\"/><path d=\"M17.41 7.96l-1.37-1.37c-.4-.4-.92-.59-1.43-.59-.52 0-1.04.2-1.43.59L10.3 9.45l-7.72 7.72c-.78.78-.78 2.05 0 2.83L4 21.41c.39.39.9.59 1.41.59.51 0 1.02-.2 1.41-.59l7.78-7.78 2.81-2.81c.8-.78.8-2.07 0-2.86zM5.41 20L4 18.59l7.72-7.72 1.47 1.35L5.41 20z\"/>\n",
              "  </svg>\n",
              "      </button>\n",
              "      \n",
              "  <style>\n",
              "    .colab-df-container {\n",
              "      display:flex;\n",
              "      flex-wrap:wrap;\n",
              "      gap: 12px;\n",
              "    }\n",
              "\n",
              "    .colab-df-convert {\n",
              "      background-color: #E8F0FE;\n",
              "      border: none;\n",
              "      border-radius: 50%;\n",
              "      cursor: pointer;\n",
              "      display: none;\n",
              "      fill: #1967D2;\n",
              "      height: 32px;\n",
              "      padding: 0 0 0 0;\n",
              "      width: 32px;\n",
              "    }\n",
              "\n",
              "    .colab-df-convert:hover {\n",
              "      background-color: #E2EBFA;\n",
              "      box-shadow: 0px 1px 2px rgba(60, 64, 67, 0.3), 0px 1px 3px 1px rgba(60, 64, 67, 0.15);\n",
              "      fill: #174EA6;\n",
              "    }\n",
              "\n",
              "    [theme=dark] .colab-df-convert {\n",
              "      background-color: #3B4455;\n",
              "      fill: #D2E3FC;\n",
              "    }\n",
              "\n",
              "    [theme=dark] .colab-df-convert:hover {\n",
              "      background-color: #434B5C;\n",
              "      box-shadow: 0px 1px 3px 1px rgba(0, 0, 0, 0.15);\n",
              "      filter: drop-shadow(0px 1px 2px rgba(0, 0, 0, 0.3));\n",
              "      fill: #FFFFFF;\n",
              "    }\n",
              "  </style>\n",
              "\n",
              "      <script>\n",
              "        const buttonEl =\n",
              "          document.querySelector('#df-d044eb22-d1e9-4b53-b1cf-a058315b8b73 button.colab-df-convert');\n",
              "        buttonEl.style.display =\n",
              "          google.colab.kernel.accessAllowed ? 'block' : 'none';\n",
              "\n",
              "        async function convertToInteractive(key) {\n",
              "          const element = document.querySelector('#df-d044eb22-d1e9-4b53-b1cf-a058315b8b73');\n",
              "          const dataTable =\n",
              "            await google.colab.kernel.invokeFunction('convertToInteractive',\n",
              "                                                     [key], {});\n",
              "          if (!dataTable) return;\n",
              "\n",
              "          const docLinkHtml = 'Like what you see? Visit the ' +\n",
              "            '<a target=\"_blank\" href=https://colab.research.google.com/notebooks/data_table.ipynb>data table notebook</a>'\n",
              "            + ' to learn more about interactive tables.';\n",
              "          element.innerHTML = '';\n",
              "          dataTable['output_type'] = 'display_data';\n",
              "          await google.colab.output.renderOutput(dataTable, element);\n",
              "          const docLink = document.createElement('div');\n",
              "          docLink.innerHTML = docLinkHtml;\n",
              "          element.appendChild(docLink);\n",
              "        }\n",
              "      </script>\n",
              "    </div>\n",
              "  </div>\n",
              "  "
            ]
          },
          "metadata": {},
          "execution_count": 154
        }
      ]
    },
    {
      "cell_type": "code",
      "source": [
        "# checking for missing values\n",
        "data.isnull().sum()"
      ],
      "metadata": {
        "colab": {
          "base_uri": "https://localhost:8080/"
        },
        "id": "NdjWnQG3d6RS",
        "outputId": "d9c443f0-d441-43c6-986a-3bb81eb533fa"
      },
      "execution_count": 155,
      "outputs": [
        {
          "output_type": "execute_result",
          "data": {
            "text/plain": [
              "Duration                0\n",
              "Start date              0\n",
              "End date                0\n",
              "Start station number    0\n",
              "Start station           0\n",
              "End station number      0\n",
              "End station             0\n",
              "Bike number             0\n",
              "Member type             0\n",
              "dtype: int64"
            ]
          },
          "metadata": {},
          "execution_count": 155
        }
      ]
    },
    {
      "cell_type": "code",
      "source": [
        "data = data.drop(columns=['Start date', 'End date' , 'Start station' , 'End station', 'Bike number'])"
      ],
      "metadata": {
        "id": "geSjSJQePtlP"
      },
      "execution_count": 156,
      "outputs": []
    },
    {
      "cell_type": "code",
      "source": [
        "print(data['Member type'].unique())"
      ],
      "metadata": {
        "colab": {
          "base_uri": "https://localhost:8080/"
        },
        "id": "8-LK3TJsIzuf",
        "outputId": "441d9183-57f8-4c84-e1ac-c2417ac6dc86"
      },
      "execution_count": 157,
      "outputs": [
        {
          "output_type": "stream",
          "name": "stdout",
          "text": [
            "['Member' 'Casual' 'Unknown']\n"
          ]
        }
      ]
    },
    {
      "cell_type": "code",
      "source": [
        "from sklearn.preprocessing import LabelEncoder\n",
        "\n",
        "encoder = LabelEncoder()"
      ],
      "metadata": {
        "id": "83ACriM8J9MG"
      },
      "execution_count": 158,
      "outputs": []
    },
    {
      "cell_type": "code",
      "source": [
        "encoder.fit(data['Member type'])"
      ],
      "metadata": {
        "colab": {
          "base_uri": "https://localhost:8080/"
        },
        "id": "cEAoBbSSKM4A",
        "outputId": "d0815cc7-c103-4fad-deb1-7e58570e8560"
      },
      "execution_count": 159,
      "outputs": [
        {
          "output_type": "execute_result",
          "data": {
            "text/plain": [
              "LabelEncoder()"
            ]
          },
          "metadata": {},
          "execution_count": 159
        }
      ]
    },
    {
      "cell_type": "code",
      "source": [
        "data['Member type'] = encoder.transform(data['Member type'])"
      ],
      "metadata": {
        "id": "zZicHa1iKXnb"
      },
      "execution_count": 160,
      "outputs": []
    },
    {
      "cell_type": "code",
      "source": [
        "data"
      ],
      "metadata": {
        "colab": {
          "base_uri": "https://localhost:8080/",
          "height": 424
        },
        "id": "gzRZwsRlKnZu",
        "outputId": "8551bc31-17b6-4a19-cb93-f22981a6d760"
      },
      "execution_count": 161,
      "outputs": [
        {
          "output_type": "execute_result",
          "data": {
            "text/plain": [
              "        Duration  Start station number  End station number  Member type\n",
              "0           1012                 31208               31108            1\n",
              "1             61                 31209               31209            1\n",
              "2           2690                 31600               31100            1\n",
              "3           1406                 31600               31602            1\n",
              "4           1413                 31100               31201            1\n",
              "...          ...                   ...                 ...          ...\n",
              "115592      2179                 31110               31623            0\n",
              "115593       953                 31106               31401            1\n",
              "115594       737                 31602               31401            1\n",
              "115595       514                 31111               31202            1\n",
              "115596     51962                 31111               31111            0\n",
              "\n",
              "[115597 rows x 4 columns]"
            ],
            "text/html": [
              "\n",
              "  <div id=\"df-21e6b861-3341-4d76-b73d-c9416cee4500\">\n",
              "    <div class=\"colab-df-container\">\n",
              "      <div>\n",
              "<style scoped>\n",
              "    .dataframe tbody tr th:only-of-type {\n",
              "        vertical-align: middle;\n",
              "    }\n",
              "\n",
              "    .dataframe tbody tr th {\n",
              "        vertical-align: top;\n",
              "    }\n",
              "\n",
              "    .dataframe thead th {\n",
              "        text-align: right;\n",
              "    }\n",
              "</style>\n",
              "<table border=\"1\" class=\"dataframe\">\n",
              "  <thead>\n",
              "    <tr style=\"text-align: right;\">\n",
              "      <th></th>\n",
              "      <th>Duration</th>\n",
              "      <th>Start station number</th>\n",
              "      <th>End station number</th>\n",
              "      <th>Member type</th>\n",
              "    </tr>\n",
              "  </thead>\n",
              "  <tbody>\n",
              "    <tr>\n",
              "      <th>0</th>\n",
              "      <td>1012</td>\n",
              "      <td>31208</td>\n",
              "      <td>31108</td>\n",
              "      <td>1</td>\n",
              "    </tr>\n",
              "    <tr>\n",
              "      <th>1</th>\n",
              "      <td>61</td>\n",
              "      <td>31209</td>\n",
              "      <td>31209</td>\n",
              "      <td>1</td>\n",
              "    </tr>\n",
              "    <tr>\n",
              "      <th>2</th>\n",
              "      <td>2690</td>\n",
              "      <td>31600</td>\n",
              "      <td>31100</td>\n",
              "      <td>1</td>\n",
              "    </tr>\n",
              "    <tr>\n",
              "      <th>3</th>\n",
              "      <td>1406</td>\n",
              "      <td>31600</td>\n",
              "      <td>31602</td>\n",
              "      <td>1</td>\n",
              "    </tr>\n",
              "    <tr>\n",
              "      <th>4</th>\n",
              "      <td>1413</td>\n",
              "      <td>31100</td>\n",
              "      <td>31201</td>\n",
              "      <td>1</td>\n",
              "    </tr>\n",
              "    <tr>\n",
              "      <th>...</th>\n",
              "      <td>...</td>\n",
              "      <td>...</td>\n",
              "      <td>...</td>\n",
              "      <td>...</td>\n",
              "    </tr>\n",
              "    <tr>\n",
              "      <th>115592</th>\n",
              "      <td>2179</td>\n",
              "      <td>31110</td>\n",
              "      <td>31623</td>\n",
              "      <td>0</td>\n",
              "    </tr>\n",
              "    <tr>\n",
              "      <th>115593</th>\n",
              "      <td>953</td>\n",
              "      <td>31106</td>\n",
              "      <td>31401</td>\n",
              "      <td>1</td>\n",
              "    </tr>\n",
              "    <tr>\n",
              "      <th>115594</th>\n",
              "      <td>737</td>\n",
              "      <td>31602</td>\n",
              "      <td>31401</td>\n",
              "      <td>1</td>\n",
              "    </tr>\n",
              "    <tr>\n",
              "      <th>115595</th>\n",
              "      <td>514</td>\n",
              "      <td>31111</td>\n",
              "      <td>31202</td>\n",
              "      <td>1</td>\n",
              "    </tr>\n",
              "    <tr>\n",
              "      <th>115596</th>\n",
              "      <td>51962</td>\n",
              "      <td>31111</td>\n",
              "      <td>31111</td>\n",
              "      <td>0</td>\n",
              "    </tr>\n",
              "  </tbody>\n",
              "</table>\n",
              "<p>115597 rows × 4 columns</p>\n",
              "</div>\n",
              "      <button class=\"colab-df-convert\" onclick=\"convertToInteractive('df-21e6b861-3341-4d76-b73d-c9416cee4500')\"\n",
              "              title=\"Convert this dataframe to an interactive table.\"\n",
              "              style=\"display:none;\">\n",
              "        \n",
              "  <svg xmlns=\"http://www.w3.org/2000/svg\" height=\"24px\"viewBox=\"0 0 24 24\"\n",
              "       width=\"24px\">\n",
              "    <path d=\"M0 0h24v24H0V0z\" fill=\"none\"/>\n",
              "    <path d=\"M18.56 5.44l.94 2.06.94-2.06 2.06-.94-2.06-.94-.94-2.06-.94 2.06-2.06.94zm-11 1L8.5 8.5l.94-2.06 2.06-.94-2.06-.94L8.5 2.5l-.94 2.06-2.06.94zm10 10l.94 2.06.94-2.06 2.06-.94-2.06-.94-.94-2.06-.94 2.06-2.06.94z\"/><path d=\"M17.41 7.96l-1.37-1.37c-.4-.4-.92-.59-1.43-.59-.52 0-1.04.2-1.43.59L10.3 9.45l-7.72 7.72c-.78.78-.78 2.05 0 2.83L4 21.41c.39.39.9.59 1.41.59.51 0 1.02-.2 1.41-.59l7.78-7.78 2.81-2.81c.8-.78.8-2.07 0-2.86zM5.41 20L4 18.59l7.72-7.72 1.47 1.35L5.41 20z\"/>\n",
              "  </svg>\n",
              "      </button>\n",
              "      \n",
              "  <style>\n",
              "    .colab-df-container {\n",
              "      display:flex;\n",
              "      flex-wrap:wrap;\n",
              "      gap: 12px;\n",
              "    }\n",
              "\n",
              "    .colab-df-convert {\n",
              "      background-color: #E8F0FE;\n",
              "      border: none;\n",
              "      border-radius: 50%;\n",
              "      cursor: pointer;\n",
              "      display: none;\n",
              "      fill: #1967D2;\n",
              "      height: 32px;\n",
              "      padding: 0 0 0 0;\n",
              "      width: 32px;\n",
              "    }\n",
              "\n",
              "    .colab-df-convert:hover {\n",
              "      background-color: #E2EBFA;\n",
              "      box-shadow: 0px 1px 2px rgba(60, 64, 67, 0.3), 0px 1px 3px 1px rgba(60, 64, 67, 0.15);\n",
              "      fill: #174EA6;\n",
              "    }\n",
              "\n",
              "    [theme=dark] .colab-df-convert {\n",
              "      background-color: #3B4455;\n",
              "      fill: #D2E3FC;\n",
              "    }\n",
              "\n",
              "    [theme=dark] .colab-df-convert:hover {\n",
              "      background-color: #434B5C;\n",
              "      box-shadow: 0px 1px 3px 1px rgba(0, 0, 0, 0.15);\n",
              "      filter: drop-shadow(0px 1px 2px rgba(0, 0, 0, 0.3));\n",
              "      fill: #FFFFFF;\n",
              "    }\n",
              "  </style>\n",
              "\n",
              "      <script>\n",
              "        const buttonEl =\n",
              "          document.querySelector('#df-21e6b861-3341-4d76-b73d-c9416cee4500 button.colab-df-convert');\n",
              "        buttonEl.style.display =\n",
              "          google.colab.kernel.accessAllowed ? 'block' : 'none';\n",
              "\n",
              "        async function convertToInteractive(key) {\n",
              "          const element = document.querySelector('#df-21e6b861-3341-4d76-b73d-c9416cee4500');\n",
              "          const dataTable =\n",
              "            await google.colab.kernel.invokeFunction('convertToInteractive',\n",
              "                                                     [key], {});\n",
              "          if (!dataTable) return;\n",
              "\n",
              "          const docLinkHtml = 'Like what you see? Visit the ' +\n",
              "            '<a target=\"_blank\" href=https://colab.research.google.com/notebooks/data_table.ipynb>data table notebook</a>'\n",
              "            + ' to learn more about interactive tables.';\n",
              "          element.innerHTML = '';\n",
              "          dataTable['output_type'] = 'display_data';\n",
              "          await google.colab.output.renderOutput(dataTable, element);\n",
              "          const docLink = document.createElement('div');\n",
              "          docLink.innerHTML = docLinkHtml;\n",
              "          element.appendChild(docLink);\n",
              "        }\n",
              "      </script>\n",
              "    </div>\n",
              "  </div>\n",
              "  "
            ]
          },
          "metadata": {},
          "execution_count": 161
        }
      ]
    },
    {
      "cell_type": "code",
      "source": [
        "#select all columns except the last for all rows\n",
        "X=data.iloc[:,:-1].values\n",
        "#select the last columns of all rows\n",
        "Y=data.iloc[:, -1].values\n",
        "\n",
        "print(X.shape)\n",
        "print('----------------------')\n",
        "print(Y.shape)"
      ],
      "metadata": {
        "colab": {
          "base_uri": "https://localhost:8080/"
        },
        "id": "eMjNei1PMMbs",
        "outputId": "bc002088-3a63-450f-d6a0-d87180557ca4"
      },
      "execution_count": 162,
      "outputs": [
        {
          "output_type": "stream",
          "name": "stdout",
          "text": [
            "(115597, 3)\n",
            "----------------------\n",
            "(115597,)\n"
          ]
        }
      ]
    },
    {
      "cell_type": "code",
      "source": [
        "data['Member type'] = data['Member type'].astype(int)\n"
      ],
      "metadata": {
        "id": "OCPS7iMzO-6L"
      },
      "execution_count": 163,
      "outputs": []
    },
    {
      "cell_type": "code",
      "source": [
        "from sklearn.model_selection import train_test_split\n",
        "\n",
        "#train test split method\n",
        "X_train, X_test, Y_train, Y_test= train_test_split(X,Y, test_size=0.3)"
      ],
      "metadata": {
        "id": "VKgQQnEwNM6A"
      },
      "execution_count": 164,
      "outputs": []
    },
    {
      "cell_type": "code",
      "source": [
        "#Fitting K-NN classifier to the training set\n",
        "from sklearn.neighbors import KNeighborsClassifier\n",
        "classifier= KNeighborsClassifier(n_neighbors=5, metric='minkowski', p=2 )\n",
        "classifier.fit(X_train, Y_train)"
      ],
      "metadata": {
        "colab": {
          "base_uri": "https://localhost:8080/"
        },
        "id": "D4pZzQ89NS2g",
        "outputId": "1312cd8f-2b15-43e9-8326-c00ba322c27f"
      },
      "execution_count": 165,
      "outputs": [
        {
          "output_type": "execute_result",
          "data": {
            "text/plain": [
              "KNeighborsClassifier()"
            ]
          },
          "metadata": {},
          "execution_count": 165
        }
      ]
    },
    {
      "cell_type": "code",
      "source": [
        "#Predicting the test set result\n",
        "y_pred= classifier.predict(X_test)"
      ],
      "metadata": {
        "id": "JBrFga6FS_Ap"
      },
      "execution_count": 166,
      "outputs": []
    },
    {
      "cell_type": "code",
      "source": [
        "#Creating the Confusion matrix\n",
        "from sklearn.metrics import confusion_matrix\n",
        "cm= confusion_matrix(Y_test, y_pred)"
      ],
      "metadata": {
        "id": "fY37mAHwT9vH"
      },
      "execution_count": 167,
      "outputs": []
    },
    {
      "cell_type": "code",
      "source": [
        "cm\n"
      ],
      "metadata": {
        "colab": {
          "base_uri": "https://localhost:8080/"
        },
        "id": "4xjBQ0SlUJK2",
        "outputId": "dd72bf04-453c-4183-f6b9-dc0757e1db0e"
      },
      "execution_count": 168,
      "outputs": [
        {
          "output_type": "execute_result",
          "data": {
            "text/plain": [
              "array([[ 3420,  3823,     0],\n",
              "       [ 1488, 25947,     0],\n",
              "       [    0,     2,     0]])"
            ]
          },
          "metadata": {},
          "execution_count": 168
        }
      ]
    },
    {
      "cell_type": "code",
      "source": [
        "from sklearn import metrics\n",
        "KNN= metrics.accuracy_score(Y_test, y_pred) * 100\n",
        "print(\"\\n The Accuracy Score Using Algorithm KNN Classifier: \", KNN)"
      ],
      "metadata": {
        "colab": {
          "base_uri": "https://localhost:8080/"
        },
        "id": "RhCaOo7HZGEn",
        "outputId": "433b8408-fb83-4750-a97b-949220e2919f"
      },
      "execution_count": 170,
      "outputs": [
        {
          "output_type": "stream",
          "name": "stdout",
          "text": [
            "\n",
            " The Accuracy Score Using Algorithm KNN Classifier:  84.67993079584775\n"
          ]
        }
      ]
    },
    {
      "cell_type": "code",
      "source": [
        "#plotting the graph  \n",
        "sns.countplot(x='Member type',data=data ,palette='Set1')  \n",
        "plt.show()  "
      ],
      "metadata": {
        "colab": {
          "base_uri": "https://localhost:8080/",
          "height": 279
        },
        "id": "oLUWFrW0Uzc2",
        "outputId": "faef1ed4-7330-461c-8db1-f8eca08b1197"
      },
      "execution_count": 171,
      "outputs": [
        {
          "output_type": "display_data",
          "data": {
            "text/plain": [
              "<Figure size 432x288 with 1 Axes>"
            ],
            "image/png": "[encoded data removed]"
          },
          "metadata": {
            "needs_background": "light"
          }
        }
      ]
    },
    {
      "cell_type": "code",
      "source": [
        "\n",
        "\n"
      ],
      "metadata": {
        "id": "ko5WCt6MWAT7"
      },
      "execution_count": 169,
      "outputs": []
    }
  ]
}